{
 "cells": [
  {
   "cell_type": "markdown",
   "id": "73617bb0",
   "metadata": {},
   "source": [
    "# Disney+ Movies and TV Shows Analysis\n",
    "#### Dataset: https://www.kaggle.com/shivamb/disney-movies-and-tv-shows\n"
   ]
  },
  {
   "cell_type": "markdown",
   "id": "21520f1e",
   "metadata": {},
   "source": [
    "#### Import Libraries and Data"
   ]
  },
  {
   "cell_type": "code",
   "execution_count": 57,
   "id": "284977fa",
   "metadata": {},
   "outputs": [],
   "source": [
    "import pandas as pd\n",
    "import matplotlib.pyplot as plt\n",
    "import seaborn as sns\n",
    "import plotly.express as px"
   ]
  },
  {
   "cell_type": "code",
   "execution_count": 5,
   "id": "121a08bc",
   "metadata": {},
   "outputs": [
    {
     "data": {
      "text/html": [
       "<div>\n",
       "<style scoped>\n",
       "    .dataframe tbody tr th:only-of-type {\n",
       "        vertical-align: middle;\n",
       "    }\n",
       "\n",
       "    .dataframe tbody tr th {\n",
       "        vertical-align: top;\n",
       "    }\n",
       "\n",
       "    .dataframe thead th {\n",
       "        text-align: right;\n",
       "    }\n",
       "</style>\n",
       "<table border=\"1\" class=\"dataframe\">\n",
       "  <thead>\n",
       "    <tr style=\"text-align: right;\">\n",
       "      <th></th>\n",
       "      <th>show_id</th>\n",
       "      <th>type</th>\n",
       "      <th>title</th>\n",
       "      <th>director</th>\n",
       "      <th>cast</th>\n",
       "      <th>country</th>\n",
       "      <th>date_added</th>\n",
       "      <th>release_year</th>\n",
       "      <th>rating</th>\n",
       "      <th>duration</th>\n",
       "      <th>listed_in</th>\n",
       "      <th>description</th>\n",
       "    </tr>\n",
       "  </thead>\n",
       "  <tbody>\n",
       "    <tr>\n",
       "      <th>0</th>\n",
       "      <td>s1</td>\n",
       "      <td>Movie</td>\n",
       "      <td>Duck the Halls: A Mickey Mouse Christmas Special</td>\n",
       "      <td>Alonso Ramirez Ramos, Dave Wasson</td>\n",
       "      <td>Chris Diamantopoulos, Tony Anselmo, Tress MacN...</td>\n",
       "      <td>NaN</td>\n",
       "      <td>November 26, 2021</td>\n",
       "      <td>2016</td>\n",
       "      <td>TV-G</td>\n",
       "      <td>23 min</td>\n",
       "      <td>Animation, Family</td>\n",
       "      <td>Join Mickey and the gang as they duck the halls!</td>\n",
       "    </tr>\n",
       "    <tr>\n",
       "      <th>1</th>\n",
       "      <td>s2</td>\n",
       "      <td>Movie</td>\n",
       "      <td>Ernest Saves Christmas</td>\n",
       "      <td>John Cherry</td>\n",
       "      <td>Jim Varney, Noelle Parker, Douglas Seale</td>\n",
       "      <td>NaN</td>\n",
       "      <td>November 26, 2021</td>\n",
       "      <td>1988</td>\n",
       "      <td>PG</td>\n",
       "      <td>91 min</td>\n",
       "      <td>Comedy</td>\n",
       "      <td>Santa Claus passes his magic bag to a new St. ...</td>\n",
       "    </tr>\n",
       "    <tr>\n",
       "      <th>2</th>\n",
       "      <td>s3</td>\n",
       "      <td>Movie</td>\n",
       "      <td>Ice Age: A Mammoth Christmas</td>\n",
       "      <td>Karen Disher</td>\n",
       "      <td>Raymond Albert Romano, John Leguizamo, Denis L...</td>\n",
       "      <td>United States</td>\n",
       "      <td>November 26, 2021</td>\n",
       "      <td>2011</td>\n",
       "      <td>TV-G</td>\n",
       "      <td>23 min</td>\n",
       "      <td>Animation, Comedy, Family</td>\n",
       "      <td>Sid the Sloth is on Santa's naughty list.</td>\n",
       "    </tr>\n",
       "    <tr>\n",
       "      <th>3</th>\n",
       "      <td>s4</td>\n",
       "      <td>Movie</td>\n",
       "      <td>The Queen Family Singalong</td>\n",
       "      <td>Hamish Hamilton</td>\n",
       "      <td>Darren Criss, Adam Lambert, Derek Hough, Alexa...</td>\n",
       "      <td>NaN</td>\n",
       "      <td>November 26, 2021</td>\n",
       "      <td>2021</td>\n",
       "      <td>TV-PG</td>\n",
       "      <td>41 min</td>\n",
       "      <td>Musical</td>\n",
       "      <td>This is real life, not just fantasy!</td>\n",
       "    </tr>\n",
       "    <tr>\n",
       "      <th>4</th>\n",
       "      <td>s5</td>\n",
       "      <td>TV Show</td>\n",
       "      <td>The Beatles: Get Back</td>\n",
       "      <td>NaN</td>\n",
       "      <td>John Lennon, Paul McCartney, George Harrison, ...</td>\n",
       "      <td>NaN</td>\n",
       "      <td>November 25, 2021</td>\n",
       "      <td>2021</td>\n",
       "      <td>NaN</td>\n",
       "      <td>1 Season</td>\n",
       "      <td>Docuseries, Historical, Music</td>\n",
       "      <td>A three-part documentary from Peter Jackson ca...</td>\n",
       "    </tr>\n",
       "    <tr>\n",
       "      <th>...</th>\n",
       "      <td>...</td>\n",
       "      <td>...</td>\n",
       "      <td>...</td>\n",
       "      <td>...</td>\n",
       "      <td>...</td>\n",
       "      <td>...</td>\n",
       "      <td>...</td>\n",
       "      <td>...</td>\n",
       "      <td>...</td>\n",
       "      <td>...</td>\n",
       "      <td>...</td>\n",
       "      <td>...</td>\n",
       "    </tr>\n",
       "    <tr>\n",
       "      <th>1445</th>\n",
       "      <td>s1446</td>\n",
       "      <td>Movie</td>\n",
       "      <td>X-Men Origins: Wolverine</td>\n",
       "      <td>Gavin Hood</td>\n",
       "      <td>Hugh Jackman, Liev Schreiber, Danny Huston, wi...</td>\n",
       "      <td>United States, United Kingdom</td>\n",
       "      <td>June 4, 2021</td>\n",
       "      <td>2009</td>\n",
       "      <td>PG-13</td>\n",
       "      <td>108 min</td>\n",
       "      <td>Action-Adventure, Family, Science Fiction</td>\n",
       "      <td>Wolverine unites with legendary X-Men to fight...</td>\n",
       "    </tr>\n",
       "    <tr>\n",
       "      <th>1446</th>\n",
       "      <td>s1447</td>\n",
       "      <td>Movie</td>\n",
       "      <td>Night at the Museum: Battle of the Smithsonian</td>\n",
       "      <td>Shawn Levy</td>\n",
       "      <td>Ben Stiller, Amy Adams, Owen Wilson, Hank Azar...</td>\n",
       "      <td>United States, Canada</td>\n",
       "      <td>April 2, 2021</td>\n",
       "      <td>2009</td>\n",
       "      <td>PG</td>\n",
       "      <td>106 min</td>\n",
       "      <td>Action-Adventure, Comedy, Family</td>\n",
       "      <td>Larry Daley returns to rescue some old friends...</td>\n",
       "    </tr>\n",
       "    <tr>\n",
       "      <th>1447</th>\n",
       "      <td>s1448</td>\n",
       "      <td>Movie</td>\n",
       "      <td>Eddie the Eagle</td>\n",
       "      <td>Dexter Fletcher</td>\n",
       "      <td>Tom Costello, Jo Hartley, Keith Allen, Dickon ...</td>\n",
       "      <td>United Kingdom, Germany, United States</td>\n",
       "      <td>December 18, 2020</td>\n",
       "      <td>2016</td>\n",
       "      <td>PG-13</td>\n",
       "      <td>107 min</td>\n",
       "      <td>Biographical, Comedy, Drama</td>\n",
       "      <td>True story of Eddie Edwards, a British ski-jum...</td>\n",
       "    </tr>\n",
       "    <tr>\n",
       "      <th>1448</th>\n",
       "      <td>s1449</td>\n",
       "      <td>Movie</td>\n",
       "      <td>Bend It Like Beckham</td>\n",
       "      <td>Gurinder Chadha</td>\n",
       "      <td>Parminder Nagra, Keira Knightley, Jonathan Rhy...</td>\n",
       "      <td>United Kingdom, Germany, United States</td>\n",
       "      <td>September 18, 2020</td>\n",
       "      <td>2003</td>\n",
       "      <td>PG-13</td>\n",
       "      <td>112 min</td>\n",
       "      <td>Buddy, Comedy, Coming of Age</td>\n",
       "      <td>Despite the wishes of their traditional famili...</td>\n",
       "    </tr>\n",
       "    <tr>\n",
       "      <th>1449</th>\n",
       "      <td>s1450</td>\n",
       "      <td>Movie</td>\n",
       "      <td>Captain Sparky vs. The Flying Saucers</td>\n",
       "      <td>Mark Waring</td>\n",
       "      <td>Charlie Tahan</td>\n",
       "      <td>United States</td>\n",
       "      <td>April 1, 2020</td>\n",
       "      <td>2012</td>\n",
       "      <td>TV-G</td>\n",
       "      <td>2 min</td>\n",
       "      <td>Action-Adventure, Animals &amp; Nature, Animation</td>\n",
       "      <td>View one of Sparky's favorite home movies.</td>\n",
       "    </tr>\n",
       "  </tbody>\n",
       "</table>\n",
       "<p>1450 rows × 12 columns</p>\n",
       "</div>"
      ],
      "text/plain": [
       "     show_id     type                                             title  \\\n",
       "0         s1    Movie  Duck the Halls: A Mickey Mouse Christmas Special   \n",
       "1         s2    Movie                            Ernest Saves Christmas   \n",
       "2         s3    Movie                      Ice Age: A Mammoth Christmas   \n",
       "3         s4    Movie                        The Queen Family Singalong   \n",
       "4         s5  TV Show                             The Beatles: Get Back   \n",
       "...      ...      ...                                               ...   \n",
       "1445   s1446    Movie                          X-Men Origins: Wolverine   \n",
       "1446   s1447    Movie    Night at the Museum: Battle of the Smithsonian   \n",
       "1447   s1448    Movie                                   Eddie the Eagle   \n",
       "1448   s1449    Movie                              Bend It Like Beckham   \n",
       "1449   s1450    Movie             Captain Sparky vs. The Flying Saucers   \n",
       "\n",
       "                               director  \\\n",
       "0     Alonso Ramirez Ramos, Dave Wasson   \n",
       "1                           John Cherry   \n",
       "2                          Karen Disher   \n",
       "3                       Hamish Hamilton   \n",
       "4                                   NaN   \n",
       "...                                 ...   \n",
       "1445                         Gavin Hood   \n",
       "1446                         Shawn Levy   \n",
       "1447                    Dexter Fletcher   \n",
       "1448                    Gurinder Chadha   \n",
       "1449                        Mark Waring   \n",
       "\n",
       "                                                   cast  \\\n",
       "0     Chris Diamantopoulos, Tony Anselmo, Tress MacN...   \n",
       "1              Jim Varney, Noelle Parker, Douglas Seale   \n",
       "2     Raymond Albert Romano, John Leguizamo, Denis L...   \n",
       "3     Darren Criss, Adam Lambert, Derek Hough, Alexa...   \n",
       "4     John Lennon, Paul McCartney, George Harrison, ...   \n",
       "...                                                 ...   \n",
       "1445  Hugh Jackman, Liev Schreiber, Danny Huston, wi...   \n",
       "1446  Ben Stiller, Amy Adams, Owen Wilson, Hank Azar...   \n",
       "1447  Tom Costello, Jo Hartley, Keith Allen, Dickon ...   \n",
       "1448  Parminder Nagra, Keira Knightley, Jonathan Rhy...   \n",
       "1449                                      Charlie Tahan   \n",
       "\n",
       "                                     country          date_added  \\\n",
       "0                                        NaN   November 26, 2021   \n",
       "1                                        NaN   November 26, 2021   \n",
       "2                              United States   November 26, 2021   \n",
       "3                                        NaN   November 26, 2021   \n",
       "4                                        NaN   November 25, 2021   \n",
       "...                                      ...                 ...   \n",
       "1445           United States, United Kingdom        June 4, 2021   \n",
       "1446                   United States, Canada       April 2, 2021   \n",
       "1447  United Kingdom, Germany, United States   December 18, 2020   \n",
       "1448  United Kingdom, Germany, United States  September 18, 2020   \n",
       "1449                           United States       April 1, 2020   \n",
       "\n",
       "      release_year rating  duration  \\\n",
       "0             2016   TV-G    23 min   \n",
       "1             1988     PG    91 min   \n",
       "2             2011   TV-G    23 min   \n",
       "3             2021  TV-PG    41 min   \n",
       "4             2021    NaN  1 Season   \n",
       "...            ...    ...       ...   \n",
       "1445          2009  PG-13   108 min   \n",
       "1446          2009     PG   106 min   \n",
       "1447          2016  PG-13   107 min   \n",
       "1448          2003  PG-13   112 min   \n",
       "1449          2012   TV-G     2 min   \n",
       "\n",
       "                                          listed_in  \\\n",
       "0                                 Animation, Family   \n",
       "1                                            Comedy   \n",
       "2                         Animation, Comedy, Family   \n",
       "3                                           Musical   \n",
       "4                     Docuseries, Historical, Music   \n",
       "...                                             ...   \n",
       "1445      Action-Adventure, Family, Science Fiction   \n",
       "1446               Action-Adventure, Comedy, Family   \n",
       "1447                    Biographical, Comedy, Drama   \n",
       "1448                   Buddy, Comedy, Coming of Age   \n",
       "1449  Action-Adventure, Animals & Nature, Animation   \n",
       "\n",
       "                                            description  \n",
       "0      Join Mickey and the gang as they duck the halls!  \n",
       "1     Santa Claus passes his magic bag to a new St. ...  \n",
       "2             Sid the Sloth is on Santa's naughty list.  \n",
       "3                  This is real life, not just fantasy!  \n",
       "4     A three-part documentary from Peter Jackson ca...  \n",
       "...                                                 ...  \n",
       "1445  Wolverine unites with legendary X-Men to fight...  \n",
       "1446  Larry Daley returns to rescue some old friends...  \n",
       "1447  True story of Eddie Edwards, a British ski-jum...  \n",
       "1448  Despite the wishes of their traditional famili...  \n",
       "1449         View one of Sparky's favorite home movies.  \n",
       "\n",
       "[1450 rows x 12 columns]"
      ]
     },
     "execution_count": 5,
     "metadata": {},
     "output_type": "execute_result"
    }
   ],
   "source": [
    "df = pd.read_csv(\"disney_plus_titles.csv\", sep=\",\")\n",
    "\n",
    "df"
   ]
  },
  {
   "cell_type": "code",
   "execution_count": 7,
   "id": "21a347be",
   "metadata": {},
   "outputs": [
    {
     "data": {
      "text/plain": [
       "(1450, 12)"
      ]
     },
     "execution_count": 7,
     "metadata": {},
     "output_type": "execute_result"
    }
   ],
   "source": [
    "df.shape"
   ]
  },
  {
   "cell_type": "code",
   "execution_count": 9,
   "id": "1e57437a",
   "metadata": {},
   "outputs": [
    {
     "name": "stdout",
     "output_type": "stream",
     "text": [
      "<class 'pandas.core.frame.DataFrame'>\n",
      "RangeIndex: 1450 entries, 0 to 1449\n",
      "Data columns (total 12 columns):\n",
      " #   Column        Non-Null Count  Dtype \n",
      "---  ------        --------------  ----- \n",
      " 0   show_id       1450 non-null   object\n",
      " 1   type          1450 non-null   object\n",
      " 2   title         1450 non-null   object\n",
      " 3   director      977 non-null    object\n",
      " 4   cast          1260 non-null   object\n",
      " 5   country       1231 non-null   object\n",
      " 6   date_added    1447 non-null   object\n",
      " 7   release_year  1450 non-null   int64 \n",
      " 8   rating        1447 non-null   object\n",
      " 9   duration      1450 non-null   object\n",
      " 10  listed_in     1450 non-null   object\n",
      " 11  description   1450 non-null   object\n",
      "dtypes: int64(1), object(11)\n",
      "memory usage: 136.1+ KB\n"
     ]
    }
   ],
   "source": [
    "df.info()"
   ]
  },
  {
   "cell_type": "code",
   "execution_count": 14,
   "id": "00fe211b",
   "metadata": {},
   "outputs": [
    {
     "name": "stdout",
     "output_type": "stream",
     "text": [
      "<class 'pandas.core.frame.DataFrame'>\n",
      "RangeIndex: 1450 entries, 0 to 1449\n",
      "Data columns (total 12 columns):\n",
      " #   Column        Non-Null Count  Dtype         \n",
      "---  ------        --------------  -----         \n",
      " 0   show_id       1450 non-null   object        \n",
      " 1   type          1450 non-null   object        \n",
      " 2   title         1450 non-null   object        \n",
      " 3   director      977 non-null    object        \n",
      " 4   cast          1260 non-null   object        \n",
      " 5   country       1231 non-null   object        \n",
      " 6   date_added    1447 non-null   datetime64[ns]\n",
      " 7   release_year  1450 non-null   int64         \n",
      " 8   rating        1447 non-null   object        \n",
      " 9   duration      1450 non-null   object        \n",
      " 10  listed_in     1450 non-null   object        \n",
      " 11  description   1450 non-null   object        \n",
      "dtypes: datetime64[ns](1), int64(1), object(10)\n",
      "memory usage: 136.1+ KB\n"
     ]
    }
   ],
   "source": [
    "# Convert \"date_added\" from dtype object into datetime\n",
    "\n",
    "df[\"date_added\"] = pd.to_datetime(df[\"date_added\"])\n",
    "df.info()"
   ]
  },
  {
   "cell_type": "markdown",
   "id": "255ee770",
   "metadata": {},
   "source": [
    "#### Comparison between Disney+ Movies and TV Shows"
   ]
  },
  {
   "cell_type": "code",
   "execution_count": 73,
   "id": "b113d6b3",
   "metadata": {},
   "outputs": [
    {
     "data": {
      "image/png": "[encoded data removed]",
      "text/plain": [
       "<Figure size 432x288 with 1 Axes>"
      ]
     },
     "metadata": {
      "needs_background": "light"
     },
     "output_type": "display_data"
    }
   ],
   "source": [
    "plt.title(\"Comparison Between Movies and TV Shows\")\n",
    "sns.countplot(x=df[\"type\"])\n",
    "plt.show()"
   ]
  },
  {
   "cell_type": "markdown",
   "id": "71da585e",
   "metadata": {},
   "source": [
    "#### Visualization of Disney+ Show Ratings"
   ]
  },
  {
   "cell_type": "code",
   "execution_count": 75,
   "id": "046e3684",
   "metadata": {},
   "outputs": [
    {
     "data": {
      "image/png": "[encoded data removed]",
      "text/plain": [
       "<Figure size 432x288 with 1 Axes>"
      ]
     },
     "metadata": {
      "needs_background": "light"
     },
     "output_type": "display_data"
    }
   ],
   "source": [
    "sns.countplot(x=df[\"rating\"], palette=\"flare\", order=df['rating'].value_counts().index)\n",
    "plt.title(\"Disney Ratings\")\n",
    "plt.show()"
   ]
  },
  {
   "cell_type": "markdown",
   "id": "8aafc940",
   "metadata": {},
   "source": [
    "#### Release Year"
   ]
  },
  {
   "cell_type": "code",
   "execution_count": 70,
   "id": "0edcffa5",
   "metadata": {},
   "outputs": [
    {
     "data": {
      "application/vnd.plotly.v1+json": {
       "config": {
        "plotlyServerURL": "https://plot.ly"
       },
       "data": [
        {
         "alignmentgroup": "True",
         "bingroup": "x",
         "hovertemplate": "release_year=%{x}<br>count=%{y}<extra></extra>",
         "legendgroup": "",
         "marker": {
          "color": "#636efa",
          "pattern": {
           "shape": ""
          }
         },
         "name": "",
         "offsetgroup": "",
         "orientation": "v",
         "showlegend": false,
         "type": "histogram",
         "x": [
          2016,
          1988,
          2011,
          2021,
          2021,
          2021,
          2021,
          2015,
          2019,
          2008,
          2020,
          2020,
          2007,
          2013,
          2021,
          2021,
          2021,
          2018,
          2021,
          2007,
          2014,
          2015,
          2013,
          2021,
          2021,
          2021,
          2021,
          2021,
          2021,
          2012,
          2021,
          2021,
          2021,
          2012,
          2011,
          2006,
          2021,
          2021,
          2021,
          2010,
          2021,
          2021,
          2011,
          1996,
          2014,
          2010,
          2009,
          2008,
          2009,
          2010,
          2011,
          2018,
          2017,
          2021,
          2021,
          2015,
          1993,
          1994,
          2015,
          2021,
          2021,
          2021,
          2019,
          2021,
          2020,
          2020,
          2021,
          2020,
          2019,
          2021,
          2021,
          2021,
          2021,
          2021,
          2021,
          2017,
          2021,
          2021,
          2021,
          2021,
          2007,
          2015,
          2021,
          2014,
          2017,
          2017,
          2021,
          2020,
          2019,
          1998,
          2021,
          2021,
          1989,
          2021,
          2011,
          2014,
          2019,
          2021,
          2021,
          2009,
          2021,
          2016,
          2021,
          2020,
          2021,
          2021,
          2012,
          2015,
          2021,
          2021,
          2011,
          2021,
          2021,
          2020,
          1997,
          2011,
          2021,
          2019,
          2019,
          2021,
          2021,
          2007,
          2021,
          2014,
          2007,
          2014,
          2018,
          2020,
          2006,
          2021,
          2005,
          2000,
          2021,
          2021,
          2021,
          2018,
          2021,
          2011,
          2012,
          2021,
          1993,
          2021,
          2020,
          2021,
          2004,
          2021,
          2020,
          2018,
          2021,
          2021,
          2021,
          2006,
          2021,
          2020,
          2020,
          2021,
          2013,
          2020,
          2021,
          2020,
          2021,
          2017,
          2021,
          2020,
          2020,
          2021,
          2021,
          2020,
          2011,
          2021,
          2021,
          2011,
          2006,
          2021,
          2021,
          2021,
          2021,
          2021,
          2021,
          2013,
          2021,
          2019,
          2021,
          2021,
          2016,
          1993,
          2005,
          1987,
          2019,
          2021,
          2021,
          2021,
          2018,
          2019,
          2021,
          1985,
          2016,
          2015,
          1967,
          2005,
          2020,
          2021,
          2018,
          2017,
          2021,
          2012,
          2021,
          2021,
          2019,
          2021,
          2018,
          2021,
          2021,
          2021,
          2021,
          2021,
          2016,
          2017,
          2013,
          2015,
          2014,
          1973,
          2011,
          2021,
          2009,
          2006,
          1996,
          2007,
          2013,
          1991,
          2021,
          2021,
          2021,
          2021,
          1994,
          2021,
          1996,
          2020,
          2017,
          1956,
          1994,
          2020,
          2013,
          2021,
          2021,
          2021,
          2014,
          2011,
          2019,
          2012,
          1994,
          2012,
          2016,
          2010,
          1995,
          1991,
          1994,
          1984,
          1985,
          2004,
          1974,
          2020,
          2006,
          2017,
          2020,
          2021,
          2021,
          1985,
          2011,
          2020,
          1959,
          2016,
          2011,
          2015,
          2021,
          2017,
          2019,
          2018,
          2021,
          2020,
          2021,
          2016,
          2021,
          2006,
          2004,
          2012,
          2008,
          2019,
          2012,
          2019,
          2021,
          2020,
          2010,
          2021,
          2016,
          2003,
          2005,
          2021,
          2014,
          1976,
          2020,
          2021,
          1997,
          2010,
          2019,
          2020,
          2020,
          2013,
          1991,
          2020,
          2021,
          2018,
          2015,
          2018,
          2018,
          2021,
          2020,
          2017,
          2021,
          2014,
          2018,
          2018,
          2008,
          2019,
          2016,
          2020,
          2020,
          2020,
          2001,
          2020,
          2020,
          2020,
          2021,
          2020,
          2014,
          2020,
          2020,
          2019,
          2020,
          2020,
          2017,
          2020,
          2018,
          2020,
          1997,
          2020,
          2019,
          2020,
          2005,
          2020,
          2018,
          2014,
          2020,
          2020,
          2013,
          2016,
          2020,
          2019,
          2020,
          2013,
          2014,
          2020,
          2020,
          2020,
          1990,
          1992,
          1997,
          2020,
          2019,
          2019,
          2009,
          2019,
          2015,
          1997,
          2009,
          2011,
          2020,
          2019,
          2010,
          2020,
          2020,
          2019,
          2017,
          2020,
          2019,
          2013,
          2008,
          2020,
          2020,
          2014,
          2020,
          2019,
          2019,
          2010,
          2020,
          2020,
          2003,
          1996,
          2010,
          2016,
          2020,
          2020,
          2019,
          2020,
          2020,
          2020,
          2018,
          2019,
          1998,
          2020,
          2008,
          2019,
          2011,
          2015,
          2011,
          2018,
          1994,
          1996,
          2020,
          1952,
          2016,
          2020,
          2020,
          2017,
          2020,
          2020,
          2018,
          2020,
          2020,
          2020,
          2019,
          2020,
          2018,
          2016,
          2018,
          2018,
          2018,
          2017,
          2017,
          2020,
          2020,
          2010,
          2019,
          2020,
          2015,
          2012,
          2018,
          2018,
          2015,
          2020,
          2012,
          2018,
          2018,
          2011,
          2018,
          2013,
          2020,
          2016,
          2020,
          2020,
          2018,
          2017,
          2017,
          2020,
          2014,
          2016,
          1955,
          2017,
          2018,
          2019,
          2004,
          1977,
          2017,
          2016,
          2013,
          2020,
          2018,
          2014,
          2020,
          2016,
          2011,
          2020,
          2016,
          2009,
          1995,
          1992,
          1995,
          2011,
          2020,
          1955,
          1957,
          2018,
          1999,
          2005,
          1997,
          2010,
          2018,
          2016,
          2016,
          2014,
          1993,
          1989,
          2020,
          2013,
          1957,
          1955,
          2009,
          2018,
          2012,
          2019,
          2017,
          2017,
          2010,
          2012,
          2016,
          2014,
          2019,
          2012,
          1948,
          2015,
          1964,
          2011,
          2009,
          1969,
          2017,
          2020,
          2019,
          2009,
          2020,
          2019,
          2019,
          2012,
          2017,
          2014,
          1987,
          2019,
          2020,
          1997,
          1996,
          1993,
          1942,
          1950,
          2018,
          2017,
          1951,
          2019,
          1953,
          1987,
          2015,
          2012,
          1952,
          2004,
          2020,
          1989,
          1952,
          2016,
          2020,
          2011,
          2017,
          1952,
          1948,
          2011,
          2020,
          2017,
          2020,
          2017,
          2018,
          1977,
          1949,
          2019,
          2020,
          2018,
          1953,
          1940,
          1946,
          1954,
          2020,
          1936,
          2010,
          1944,
          2020,
          1952,
          1935,
          2020,
          1951,
          2020,
          1952,
          1939,
          2008,
          1975,
          1953,
          1978,
          1999,
          2012,
          2011,
          2011,
          2010,
          2012,
          2020,
          2018,
          2013,
          2020,
          2017,
          2009,
          2019,
          2020,
          2016,
          2007,
          2008,
          2018,
          2018,
          2014,
          2020,
          2019,
          2018,
          2019,
          2019,
          2019,
          2008,
          2013,
          2005,
          2017,
          1969,
          1984,
          2002,
          2020,
          2019,
          2019,
          2004,
          1988,
          2020,
          2019,
          2020,
          2019,
          2015,
          2016,
          2011,
          2017,
          2016,
          2018,
          2003,
          2020,
          2020,
          2017,
          2019,
          2020,
          2011,
          2016,
          2008,
          2010,
          2010,
          2013,
          2012,
          2008,
          2010,
          2013,
          1993,
          2017,
          2014,
          2011,
          2016,
          2017,
          2015,
          2015,
          1971,
          2003,
          2014,
          2019,
          2017,
          2019,
          2009,
          2001,
          2009,
          2016,
          2019,
          2017,
          2019,
          2003,
          2019,
          2019,
          2019,
          2019,
          2019,
          2019,
          2019,
          2017,
          2015,
          2019,
          2014,
          2019,
          2006,
          2012,
          2015,
          2019,
          2019,
          2014,
          2011,
          2016,
          2016,
          2017,
          2017,
          2019,
          2019,
          2019,
          2017,
          2019,
          2019,
          1999,
          1961,
          2003,
          2000,
          2011,
          1954,
          1998,
          1995,
          1995,
          1946,
          2002,
          1992,
          1996,
          1994,
          1951,
          2005,
          2000,
          1962,
          2004,
          1981,
          2000,
          2016,
          1999,
          2019,
          2017,
          2003,
          2001,
          2018,
          2009,
          1932,
          1961,
          1942,
          2006,
          2018,
          1939,
          1955,
          1998,
          1997,
          1955,
          2016,
          1987,
          2015,
          2017,
          2014,
          2017,
          2009,
          1994,
          1938,
          2008,
          1948,
          1993,
          2004,
          1993,
          2012,
          1999,
          2017,
          1998,
          2003,
          2006,
          2005,
          2017,
          2008,
          2002,
          1994,
          2008,
          2010,
          1999,
          1978,
          1941,
          2006,
          2011,
          2017,
          2011,
          2010,
          2013,
          2010,
          2008,
          2010,
          2014,
          1986,
          1989,
          1941,
          2005,
          1989,
          1947,
          1950,
          2002,
          2007,
          1937,
          2014,
          2008,
          2004,
          2018,
          1951,
          2006,
          2012,
          2009,
          1959,
          1991,
          1956,
          1955,
          2010,
          2017,
          2005,
          2017,
          2010,
          2000,
          2016,
          2010,
          2015,
          2015,
          2010,
          2015,
          2015,
          2016,
          2017,
          2019,
          2018,
          2012,
          2011,
          2012,
          2010,
          2008,
          2017,
          2014,
          2015,
          2017,
          2005,
          2016,
          2011,
          2015,
          2010,
          2016,
          2018,
          1985,
          1996,
          2017,
          2017,
          1998,
          2001,
          2005,
          1996,
          1997,
          2005,
          2000,
          1992,
          1966,
          2011,
          2014,
          2017,
          2012,
          2008,
          2015,
          2011,
          2004,
          1999,
          1938,
          1943,
          2002,
          1999,
          2019,
          1990,
          2009,
          2019,
          1941,
          2017,
          2018,
          2003,
          2006,
          2017,
          1964,
          2004,
          2019,
          1975,
          2000,
          2019,
          1940,
          2000,
          1994,
          2007,
          1938,
          2016,
          2003,
          1996,
          1986,
          2019,
          1932,
          1997,
          1950,
          2001,
          2019,
          1995,
          1984,
          2003,
          2018,
          2012,
          2013,
          2003,
          1947,
          1986,
          1994,
          2011,
          1999,
          2009,
          1997,
          2002,
          2018,
          2013,
          2005,
          2004,
          2009,
          2011,
          1992,
          2002,
          1954,
          1934,
          2010,
          1961,
          1976,
          1998,
          2004,
          2001,
          2006,
          2005,
          2008,
          2009,
          2009,
          1937,
          1995,
          1980,
          1977,
          1974,
          1997,
          2006,
          2007,
          2008,
          2019,
          1993,
          2004,
          1992,
          1989,
          1997,
          1999,
          2019,
          2001,
          2016,
          2014,
          1942,
          1942,
          2012,
          1998,
          2016,
          2005,
          2016,
          2015,
          1999,
          2003,
          2019,
          2018,
          2006,
          2015,
          1994,
          2008,
          1994,
          1996,
          2005,
          1996,
          2017,
          2011,
          2013,
          2007,
          1999,
          2009,
          2010,
          1959,
          2007,
          2001,
          1997,
          1960,
          1996,
          2010,
          2019,
          2005,
          2017,
          2009,
          2019,
          2019,
          2003,
          2005,
          2012,
          2011,
          2019,
          2015,
          2016,
          2018,
          2018,
          2014,
          2015,
          2015,
          2016,
          2014,
          2014,
          2014,
          2014,
          2014,
          2011,
          1941,
          2006,
          2012,
          2005,
          1993,
          2018,
          2006,
          2002,
          2005,
          2000,
          1937,
          2018,
          2017,
          2001,
          1986,
          1937,
          1947,
          2017,
          2018,
          1992,
          2017,
          2018,
          2014,
          2019,
          2015,
          2015,
          2019,
          2016,
          2011,
          2014,
          2019,
          2016,
          2014,
          2017,
          2008,
          2010,
          2013,
          2012,
          2011,
          2013,
          2011,
          2014,
          2016,
          2012,
          2016,
          2015,
          2014,
          2019,
          2017,
          2016,
          2016,
          1964,
          2006,
          1998,
          2007,
          1948,
          1948,
          2012,
          1955,
          2004,
          1942,
          1983,
          1947,
          1999,
          1936,
          1938,
          2004,
          1998,
          2002,
          2008,
          2004,
          1998,
          2000,
          2014,
          2018,
          2016,
          2000,
          2013,
          2001,
          2001,
          1986,
          1940,
          1940,
          2005,
          2014,
          1996,
          2014,
          1999,
          2006,
          2007,
          1992,
          2017,
          2019,
          2005,
          2017,
          1957,
          1988,
          2005,
          1985,
          2006,
          1995,
          2016,
          1998,
          2018,
          2009,
          2014,
          1957,
          2016,
          1953,
          2002,
          2000,
          2003,
          2007,
          2011,
          2013,
          2003,
          1940,
          2016,
          2007,
          2006,
          2003,
          2019,
          2004,
          2018,
          1950,
          1952,
          1949,
          1949,
          1995,
          1998,
          1960,
          1997,
          2005,
          2008,
          2009,
          2019,
          1996,
          2016,
          2000,
          2007,
          2006,
          2000,
          2003,
          2001,
          2003,
          1987,
          2000,
          1947,
          1978,
          2006,
          1985,
          1998,
          2003,
          2015,
          2000,
          1973,
          2018,
          2016,
          2006,
          1998,
          2004,
          1943,
          1962,
          2015,
          2012,
          1932,
          2013,
          2018,
          2017,
          2012,
          2010,
          2017,
          1956,
          2012,
          2010,
          2013,
          2011,
          1991,
          1997,
          2007,
          1992,
          1993,
          2009,
          1959,
          1999,
          2019,
          1937,
          1972,
          2007,
          1999,
          1939,
          2016,
          1982,
          1999,
          1979,
          2016,
          2014,
          2014,
          1977,
          2002,
          2019,
          1983,
          2005,
          1980,
          2015,
          1999,
          2010,
          1928,
          2000,
          2003,
          2008,
          2004,
          1980,
          2013,
          1940,
          1990,
          1995,
          2010,
          2017,
          2002,
          2004,
          2015,
          2013,
          2011,
          1997,
          1965,
          1961,
          1984,
          1967,
          1993,
          1949,
          1955,
          1955,
          1975,
          1979,
          1970,
          1941,
          2010,
          1999,
          1935,
          1974,
          1934,
          1972,
          1985,
          1979,
          2013,
          2014,
          2000,
          1998,
          1974,
          2003,
          2006,
          2008,
          1986,
          2008,
          2005,
          2000,
          1969,
          2002,
          2000,
          2003,
          2018,
          1981,
          2006,
          2007,
          1980,
          1934,
          1935,
          2015,
          1981,
          2005,
          2003,
          1939,
          1996,
          2002,
          2019,
          1963,
          2004,
          1985,
          2003,
          1998,
          2012,
          2004,
          1998,
          1989,
          2000,
          2008,
          1941,
          1953,
          2003,
          2019,
          1969,
          1977,
          1971,
          2012,
          1992,
          1979,
          2011,
          2015,
          1988,
          1937,
          1942,
          1998,
          1961,
          1933,
          1956,
          2001,
          1962,
          2009,
          2001,
          2004,
          2005,
          1941,
          2006,
          1977,
          1990,
          2002,
          1994,
          2002,
          2006,
          2002,
          2009,
          1976,
          1959,
          1960,
          1953,
          1965,
          1952,
          1975,
          2011,
          2004,
          2008,
          2016,
          1999,
          1945,
          1993,
          2000,
          1935,
          1966,
          1939,
          2000,
          1954,
          2006,
          1934,
          2013,
          2019,
          2003,
          1936,
          2001,
          1933,
          1936,
          1987,
          1990,
          1936,
          2004,
          1993,
          1995,
          1988,
          2008,
          2010,
          2009,
          2017,
          1936,
          1995,
          1995,
          1999,
          2010,
          2011,
          2012,
          2011,
          2009,
          1950,
          1950,
          1976,
          2002,
          2018,
          1982,
          2002,
          2002,
          1940,
          2001,
          2005,
          2007,
          1979,
          2009,
          2000,
          2005,
          2010,
          2008,
          2006,
          2000,
          1991,
          1988,
          2015,
          2012,
          2011,
          2002,
          2004,
          1949,
          2007,
          2009,
          2008,
          2015,
          2012,
          2000,
          1933,
          1963,
          1998,
          2003,
          2007,
          2018,
          2014,
          1999,
          2001,
          2004,
          2016,
          1971,
          1968,
          1938,
          1972,
          2001,
          1996,
          1978,
          1986,
          1963,
          1965,
          2014,
          2016,
          2008,
          2015,
          2006,
          2009,
          2009,
          2009,
          2016,
          2003,
          2012
         ],
         "xaxis": "x",
         "yaxis": "y"
        }
       ],
       "layout": {
        "barmode": "relative",
        "legend": {
         "tracegroupgap": 0
        },
        "template": {
         "data": {
          "bar": [
           {
            "error_x": {
             "color": "#2a3f5f"
            },
            "error_y": {
             "color": "#2a3f5f"
            },
            "marker": {
             "line": {
              "color": "#E5ECF6",
              "width": 0.5
             },
             "pattern": {
              "fillmode": "overlay",
              "size": 10,
              "solidity": 0.2
             }
            },
            "type": "bar"
           }
          ],
          "barpolar": [
           {
            "marker": {
             "line": {
              "color": "#E5ECF6",
              "width": 0.5
             },
             "pattern": {
              "fillmode": "overlay",
              "size": 10,
              "solidity": 0.2
             }
            },
            "type": "barpolar"
           }
          ],
          "carpet": [
           {
            "aaxis": {
             "endlinecolor": "#2a3f5f",
             "gridcolor": "white",
             "linecolor": "white",
             "minorgridcolor": "white",
             "startlinecolor": "#2a3f5f"
            },
            "baxis": {
             "endlinecolor": "#2a3f5f",
             "gridcolor": "white",
             "linecolor": "white",
             "minorgridcolor": "white",
             "startlinecolor": "#2a3f5f"
            },
            "type": "carpet"
           }
          ],
          "choropleth": [
           {
            "colorbar": {
             "outlinewidth": 0,
             "ticks": ""
            },
            "type": "choropleth"
           }
          ],
          "contour": [
           {
            "colorbar": {
             "outlinewidth": 0,
             "ticks": ""
            },
            "colorscale": [
             [
              0,
              "#0d0887"
             ],
             [
              0.1111111111111111,
              "#46039f"
             ],
             [
              0.2222222222222222,
              "#7201a8"
             ],
             [
              0.3333333333333333,
              "#9c179e"
             ],
             [
              0.4444444444444444,
              "#bd3786"
             ],
             [
              0.5555555555555556,
              "#d8576b"
             ],
             [
              0.6666666666666666,
              "#ed7953"
             ],
             [
              0.7777777777777778,
              "#fb9f3a"
             ],
             [
              0.8888888888888888,
              "#fdca26"
             ],
             [
              1,
              "#f0f921"
             ]
            ],
            "type": "contour"
           }
          ],
          "contourcarpet": [
           {
            "colorbar": {
             "outlinewidth": 0,
             "ticks": ""
            },
            "type": "contourcarpet"
           }
          ],
          "heatmap": [
           {
            "colorbar": {
             "outlinewidth": 0,
             "ticks": ""
            },
            "colorscale": [
             [
              0,
              "#0d0887"
             ],
             [
              0.1111111111111111,
              "#46039f"
             ],
             [
              0.2222222222222222,
              "#7201a8"
             ],
             [
              0.3333333333333333,
              "#9c179e"
             ],
             [
              0.4444444444444444,
              "#bd3786"
             ],
             [
              0.5555555555555556,
              "#d8576b"
             ],
             [
              0.6666666666666666,
              "#ed7953"
             ],
             [
              0.7777777777777778,
              "#fb9f3a"
             ],
             [
              0.8888888888888888,
              "#fdca26"
             ],
             [
              1,
              "#f0f921"
             ]
            ],
            "type": "heatmap"
           }
          ],
          "heatmapgl": [
           {
            "colorbar": {
             "outlinewidth": 0,
             "ticks": ""
            },
            "colorscale": [
             [
              0,
              "#0d0887"
             ],
             [
              0.1111111111111111,
              "#46039f"
             ],
             [
              0.2222222222222222,
              "#7201a8"
             ],
             [
              0.3333333333333333,
              "#9c179e"
             ],
             [
              0.4444444444444444,
              "#bd3786"
             ],
             [
              0.5555555555555556,
              "#d8576b"
             ],
             [
              0.6666666666666666,
              "#ed7953"
             ],
             [
              0.7777777777777778,
              "#fb9f3a"
             ],
             [
              0.8888888888888888,
              "#fdca26"
             ],
             [
              1,
              "#f0f921"
             ]
            ],
            "type": "heatmapgl"
           }
          ],
          "histogram": [
           {
            "marker": {
             "pattern": {
              "fillmode": "overlay",
              "size": 10,
              "solidity": 0.2
             }
            },
            "type": "histogram"
           }
          ],
          "histogram2d": [
           {
            "colorbar": {
             "outlinewidth": 0,
             "ticks": ""
            },
            "colorscale": [
             [
              0,
              "#0d0887"
             ],
             [
              0.1111111111111111,
              "#46039f"
             ],
             [
              0.2222222222222222,
              "#7201a8"
             ],
             [
              0.3333333333333333,
              "#9c179e"
             ],
             [
              0.4444444444444444,
              "#bd3786"
             ],
             [
              0.5555555555555556,
              "#d8576b"
             ],
             [
              0.6666666666666666,
              "#ed7953"
             ],
             [
              0.7777777777777778,
              "#fb9f3a"
             ],
             [
              0.8888888888888888,
              "#fdca26"
             ],
             [
              1,
              "#f0f921"
             ]
            ],
            "type": "histogram2d"
           }
          ],
          "histogram2dcontour": [
           {
            "colorbar": {
             "outlinewidth": 0,
             "ticks": ""
            },
            "colorscale": [
             [
              0,
              "#0d0887"
             ],
             [
              0.1111111111111111,
              "#46039f"
             ],
             [
              0.2222222222222222,
              "#7201a8"
             ],
             [
              0.3333333333333333,
              "#9c179e"
             ],
             [
              0.4444444444444444,
              "#bd3786"
             ],
             [
              0.5555555555555556,
              "#d8576b"
             ],
             [
              0.6666666666666666,
              "#ed7953"
             ],
             [
              0.7777777777777778,
              "#fb9f3a"
             ],
             [
              0.8888888888888888,
              "#fdca26"
             ],
             [
              1,
              "#f0f921"
             ]
            ],
            "type": "histogram2dcontour"
           }
          ],
          "mesh3d": [
           {
            "colorbar": {
             "outlinewidth": 0,
             "ticks": ""
            },
            "type": "mesh3d"
           }
          ],
          "parcoords": [
           {
            "line": {
             "colorbar": {
              "outlinewidth": 0,
              "ticks": ""
             }
            },
            "type": "parcoords"
           }
          ],
          "pie": [
           {
            "automargin": true,
            "type": "pie"
           }
          ],
          "scatter": [
           {
            "marker": {
             "colorbar": {
              "outlinewidth": 0,
              "ticks": ""
             }
            },
            "type": "scatter"
           }
          ],
          "scatter3d": [
           {
            "line": {
             "colorbar": {
              "outlinewidth": 0,
              "ticks": ""
             }
            },
            "marker": {
             "colorbar": {
              "outlinewidth": 0,
              "ticks": ""
             }
            },
            "type": "scatter3d"
           }
          ],
          "scattercarpet": [
           {
            "marker": {
             "colorbar": {
              "outlinewidth": 0,
              "ticks": ""
             }
            },
            "type": "scattercarpet"
           }
          ],
          "scattergeo": [
           {
            "marker": {
             "colorbar": {
              "outlinewidth": 0,
              "ticks": ""
             }
            },
            "type": "scattergeo"
           }
          ],
          "scattergl": [
           {
            "marker": {
             "colorbar": {
              "outlinewidth": 0,
              "ticks": ""
             }
            },
            "type": "scattergl"
           }
          ],
          "scattermapbox": [
           {
            "marker": {
             "colorbar": {
              "outlinewidth": 0,
              "ticks": ""
             }
            },
            "type": "scattermapbox"
           }
          ],
          "scatterpolar": [
           {
            "marker": {
             "colorbar": {
              "outlinewidth": 0,
              "ticks": ""
             }
            },
            "type": "scatterpolar"
           }
          ],
          "scatterpolargl": [
           {
            "marker": {
             "colorbar": {
              "outlinewidth": 0,
              "ticks": ""
             }
            },
            "type": "scatterpolargl"
           }
          ],
          "scatterternary": [
           {
            "marker": {
             "colorbar": {
              "outlinewidth": 0,
              "ticks": ""
             }
            },
            "type": "scatterternary"
           }
          ],
          "surface": [
           {
            "colorbar": {
             "outlinewidth": 0,
             "ticks": ""
            },
            "colorscale": [
             [
              0,
              "#0d0887"
             ],
             [
              0.1111111111111111,
              "#46039f"
             ],
             [
              0.2222222222222222,
              "#7201a8"
             ],
             [
              0.3333333333333333,
              "#9c179e"
             ],
             [
              0.4444444444444444,
              "#bd3786"
             ],
             [
              0.5555555555555556,
              "#d8576b"
             ],
             [
              0.6666666666666666,
              "#ed7953"
             ],
             [
              0.7777777777777778,
              "#fb9f3a"
             ],
             [
              0.8888888888888888,
              "#fdca26"
             ],
             [
              1,
              "#f0f921"
             ]
            ],
            "type": "surface"
           }
          ],
          "table": [
           {
            "cells": {
             "fill": {
              "color": "#EBF0F8"
             },
             "line": {
              "color": "white"
             }
            },
            "header": {
             "fill": {
              "color": "#C8D4E3"
             },
             "line": {
              "color": "white"
             }
            },
            "type": "table"
           }
          ]
         },
         "layout": {
          "annotationdefaults": {
           "arrowcolor": "#2a3f5f",
           "arrowhead": 0,
           "arrowwidth": 1
          },
          "autotypenumbers": "strict",
          "coloraxis": {
           "colorbar": {
            "outlinewidth": 0,
            "ticks": ""
           }
          },
          "colorscale": {
           "diverging": [
            [
             0,
             "#8e0152"
            ],
            [
             0.1,
             "#c51b7d"
            ],
            [
             0.2,
             "#de77ae"
            ],
            [
             0.3,
             "#f1b6da"
            ],
            [
             0.4,
             "#fde0ef"
            ],
            [
             0.5,
             "#f7f7f7"
            ],
            [
             0.6,
             "#e6f5d0"
            ],
            [
             0.7,
             "#b8e186"
            ],
            [
             0.8,
             "#7fbc41"
            ],
            [
             0.9,
             "#4d9221"
            ],
            [
             1,
             "#276419"
            ]
           ],
           "sequential": [
            [
             0,
             "#0d0887"
            ],
            [
             0.1111111111111111,
             "#46039f"
            ],
            [
             0.2222222222222222,
             "#7201a8"
            ],
            [
             0.3333333333333333,
             "#9c179e"
            ],
            [
             0.4444444444444444,
             "#bd3786"
            ],
            [
             0.5555555555555556,
             "#d8576b"
            ],
            [
             0.6666666666666666,
             "#ed7953"
            ],
            [
             0.7777777777777778,
             "#fb9f3a"
            ],
            [
             0.8888888888888888,
             "#fdca26"
            ],
            [
             1,
             "#f0f921"
            ]
           ],
           "sequentialminus": [
            [
             0,
             "#0d0887"
            ],
            [
             0.1111111111111111,
             "#46039f"
            ],
            [
             0.2222222222222222,
             "#7201a8"
            ],
            [
             0.3333333333333333,
             "#9c179e"
            ],
            [
             0.4444444444444444,
             "#bd3786"
            ],
            [
             0.5555555555555556,
             "#d8576b"
            ],
            [
             0.6666666666666666,
             "#ed7953"
            ],
            [
             0.7777777777777778,
             "#fb9f3a"
            ],
            [
             0.8888888888888888,
             "#fdca26"
            ],
            [
             1,
             "#f0f921"
            ]
           ]
          },
          "colorway": [
           "#636efa",
           "#EF553B",
           "#00cc96",
           "#ab63fa",
           "#FFA15A",
           "#19d3f3",
           "#FF6692",
           "#B6E880",
           "#FF97FF",
           "#FECB52"
          ],
          "font": {
           "color": "#2a3f5f"
          },
          "geo": {
           "bgcolor": "white",
           "lakecolor": "white",
           "landcolor": "#E5ECF6",
           "showlakes": true,
           "showland": true,
           "subunitcolor": "white"
          },
          "hoverlabel": {
           "align": "left"
          },
          "hovermode": "closest",
          "mapbox": {
           "style": "light"
          },
          "paper_bgcolor": "white",
          "plot_bgcolor": "#E5ECF6",
          "polar": {
           "angularaxis": {
            "gridcolor": "white",
            "linecolor": "white",
            "ticks": ""
           },
           "bgcolor": "#E5ECF6",
           "radialaxis": {
            "gridcolor": "white",
            "linecolor": "white",
            "ticks": ""
           }
          },
          "scene": {
           "xaxis": {
            "backgroundcolor": "#E5ECF6",
            "gridcolor": "white",
            "gridwidth": 2,
            "linecolor": "white",
            "showbackground": true,
            "ticks": "",
            "zerolinecolor": "white"
           },
           "yaxis": {
            "backgroundcolor": "#E5ECF6",
            "gridcolor": "white",
            "gridwidth": 2,
            "linecolor": "white",
            "showbackground": true,
            "ticks": "",
            "zerolinecolor": "white"
           },
           "zaxis": {
            "backgroundcolor": "#E5ECF6",
            "gridcolor": "white",
            "gridwidth": 2,
            "linecolor": "white",
            "showbackground": true,
            "ticks": "",
            "zerolinecolor": "white"
           }
          },
          "shapedefaults": {
           "line": {
            "color": "#2a3f5f"
           }
          },
          "ternary": {
           "aaxis": {
            "gridcolor": "white",
            "linecolor": "white",
            "ticks": ""
           },
           "baxis": {
            "gridcolor": "white",
            "linecolor": "white",
            "ticks": ""
           },
           "bgcolor": "#E5ECF6",
           "caxis": {
            "gridcolor": "white",
            "linecolor": "white",
            "ticks": ""
           }
          },
          "title": {
           "x": 0.05
          },
          "xaxis": {
           "automargin": true,
           "gridcolor": "white",
           "linecolor": "white",
           "ticks": "",
           "title": {
            "standoff": 15
           },
           "zerolinecolor": "white",
           "zerolinewidth": 2
          },
          "yaxis": {
           "automargin": true,
           "gridcolor": "white",
           "linecolor": "white",
           "ticks": "",
           "title": {
            "standoff": 15
           },
           "zerolinecolor": "white",
           "zerolinewidth": 2
          }
         }
        },
        "title": {
         "text": "Release Year"
        },
        "xaxis": {
         "anchor": "y",
         "domain": [
          0,
          1
         ],
         "title": {
          "text": "release_year"
         }
        },
        "yaxis": {
         "anchor": "x",
         "domain": [
          0,
          1
         ],
         "title": {
          "text": "count"
         }
        }
       }
      },
      "text/html": [
       "<div>                            <div id=\"bd3fe297-baba-4847-921e-bfd42307ae88\" class=\"plotly-graph-div\" style=\"height:525px; width:100%;\"></div>            <script type=\"text/javascript\">                require([\"plotly\"], function(Plotly) {                    window.PLOTLYENV=window.PLOTLYENV || {};                                    if (document.getElementById(\"bd3fe297-baba-4847-921e-bfd42307ae88\")) {                    Plotly.newPlot(                        \"bd3fe297-baba-4847-921e-bfd42307ae88\",                        [{\"alignmentgroup\":\"True\",\"bingroup\":\"x\",\"hovertemplate\":\"release_year=%{x}<br>count=%{y}<extra></extra>\",\"legendgroup\":\"\",\"marker\":{\"color\":\"#636efa\",\"pattern\":{\"shape\":\"\"}},\"name\":\"\",\"offsetgroup\":\"\",\"orientation\":\"v\",\"showlegend\":false,\"type\":\"histogram\",\"x\":[2016,1988,2011,2021,2021,2021,2021,2015,2019,2008,2020,2020,2007,2013,2021,2021,2021,2018,2021,2007,2014,2015,2013,2021,2021,2021,2021,2021,2021,2012,2021,2021,2021,2012,2011,2006,2021,2021,2021,2010,2021,2021,2011,1996,2014,2010,2009,2008,2009,2010,2011,2018,2017,2021,2021,2015,1993,1994,2015,2021,2021,2021,2019,2021,2020,2020,2021,2020,2019,2021,2021,2021,2021,2021,2021,2017,2021,2021,2021,2021,2007,2015,2021,2014,2017,2017,2021,2020,2019,1998,2021,2021,1989,2021,2011,2014,2019,2021,2021,2009,2021,2016,2021,2020,2021,2021,2012,2015,2021,2021,2011,2021,2021,2020,1997,2011,2021,2019,2019,2021,2021,2007,2021,2014,2007,2014,2018,2020,2006,2021,2005,2000,2021,2021,2021,2018,2021,2011,2012,2021,1993,2021,2020,2021,2004,2021,2020,2018,2021,2021,2021,2006,2021,2020,2020,2021,2013,2020,2021,2020,2021,2017,2021,2020,2020,2021,2021,2020,2011,2021,2021,2011,2006,2021,2021,2021,2021,2021,2021,2013,2021,2019,2021,2021,2016,1993,2005,1987,2019,2021,2021,2021,2018,2019,2021,1985,2016,2015,1967,2005,2020,2021,2018,2017,2021,2012,2021,2021,2019,2021,2018,2021,2021,2021,2021,2021,2016,2017,2013,2015,2014,1973,2011,2021,2009,2006,1996,2007,2013,1991,2021,2021,2021,2021,1994,2021,1996,2020,2017,1956,1994,2020,2013,2021,2021,2021,2014,2011,2019,2012,1994,2012,2016,2010,1995,1991,1994,1984,1985,2004,1974,2020,2006,2017,2020,2021,2021,1985,2011,2020,1959,2016,2011,2015,2021,2017,2019,2018,2021,2020,2021,2016,2021,2006,2004,2012,2008,2019,2012,2019,2021,2020,2010,2021,2016,2003,2005,2021,2014,1976,2020,2021,1997,2010,2019,2020,2020,2013,1991,2020,2021,2018,2015,2018,2018,2021,2020,2017,2021,2014,2018,2018,2008,2019,2016,2020,2020,2020,2001,2020,2020,2020,2021,2020,2014,2020,2020,2019,2020,2020,2017,2020,2018,2020,1997,2020,2019,2020,2005,2020,2018,2014,2020,2020,2013,2016,2020,2019,2020,2013,2014,2020,2020,2020,1990,1992,1997,2020,2019,2019,2009,2019,2015,1997,2009,2011,2020,2019,2010,2020,2020,2019,2017,2020,2019,2013,2008,2020,2020,2014,2020,2019,2019,2010,2020,2020,2003,1996,2010,2016,2020,2020,2019,2020,2020,2020,2018,2019,1998,2020,2008,2019,2011,2015,2011,2018,1994,1996,2020,1952,2016,2020,2020,2017,2020,2020,2018,2020,2020,2020,2019,2020,2018,2016,2018,2018,2018,2017,2017,2020,2020,2010,2019,2020,2015,2012,2018,2018,2015,2020,2012,2018,2018,2011,2018,2013,2020,2016,2020,2020,2018,2017,2017,2020,2014,2016,1955,2017,2018,2019,2004,1977,2017,2016,2013,2020,2018,2014,2020,2016,2011,2020,2016,2009,1995,1992,1995,2011,2020,1955,1957,2018,1999,2005,1997,2010,2018,2016,2016,2014,1993,1989,2020,2013,1957,1955,2009,2018,2012,2019,2017,2017,2010,2012,2016,2014,2019,2012,1948,2015,1964,2011,2009,1969,2017,2020,2019,2009,2020,2019,2019,2012,2017,2014,1987,2019,2020,1997,1996,1993,1942,1950,2018,2017,1951,2019,1953,1987,2015,2012,1952,2004,2020,1989,1952,2016,2020,2011,2017,1952,1948,2011,2020,2017,2020,2017,2018,1977,1949,2019,2020,2018,1953,1940,1946,1954,2020,1936,2010,1944,2020,1952,1935,2020,1951,2020,1952,1939,2008,1975,1953,1978,1999,2012,2011,2011,2010,2012,2020,2018,2013,2020,2017,2009,2019,2020,2016,2007,2008,2018,2018,2014,2020,2019,2018,2019,2019,2019,2008,2013,2005,2017,1969,1984,2002,2020,2019,2019,2004,1988,2020,2019,2020,2019,2015,2016,2011,2017,2016,2018,2003,2020,2020,2017,2019,2020,2011,2016,2008,2010,2010,2013,2012,2008,2010,2013,1993,2017,2014,2011,2016,2017,2015,2015,1971,2003,2014,2019,2017,2019,2009,2001,2009,2016,2019,2017,2019,2003,2019,2019,2019,2019,2019,2019,2019,2017,2015,2019,2014,2019,2006,2012,2015,2019,2019,2014,2011,2016,2016,2017,2017,2019,2019,2019,2017,2019,2019,1999,1961,2003,2000,2011,1954,1998,1995,1995,1946,2002,1992,1996,1994,1951,2005,2000,1962,2004,1981,2000,2016,1999,2019,2017,2003,2001,2018,2009,1932,1961,1942,2006,2018,1939,1955,1998,1997,1955,2016,1987,2015,2017,2014,2017,2009,1994,1938,2008,1948,1993,2004,1993,2012,1999,2017,1998,2003,2006,2005,2017,2008,2002,1994,2008,2010,1999,1978,1941,2006,2011,2017,2011,2010,2013,2010,2008,2010,2014,1986,1989,1941,2005,1989,1947,1950,2002,2007,1937,2014,2008,2004,2018,1951,2006,2012,2009,1959,1991,1956,1955,2010,2017,2005,2017,2010,2000,2016,2010,2015,2015,2010,2015,2015,2016,2017,2019,2018,2012,2011,2012,2010,2008,2017,2014,2015,2017,2005,2016,2011,2015,2010,2016,2018,1985,1996,2017,2017,1998,2001,2005,1996,1997,2005,2000,1992,1966,2011,2014,2017,2012,2008,2015,2011,2004,1999,1938,1943,2002,1999,2019,1990,2009,2019,1941,2017,2018,2003,2006,2017,1964,2004,2019,1975,2000,2019,1940,2000,1994,2007,1938,2016,2003,1996,1986,2019,1932,1997,1950,2001,2019,1995,1984,2003,2018,2012,2013,2003,1947,1986,1994,2011,1999,2009,1997,2002,2018,2013,2005,2004,2009,2011,1992,2002,1954,1934,2010,1961,1976,1998,2004,2001,2006,2005,2008,2009,2009,1937,1995,1980,1977,1974,1997,2006,2007,2008,2019,1993,2004,1992,1989,1997,1999,2019,2001,2016,2014,1942,1942,2012,1998,2016,2005,2016,2015,1999,2003,2019,2018,2006,2015,1994,2008,1994,1996,2005,1996,2017,2011,2013,2007,1999,2009,2010,1959,2007,2001,1997,1960,1996,2010,2019,2005,2017,2009,2019,2019,2003,2005,2012,2011,2019,2015,2016,2018,2018,2014,2015,2015,2016,2014,2014,2014,2014,2014,2011,1941,2006,2012,2005,1993,2018,2006,2002,2005,2000,1937,2018,2017,2001,1986,1937,1947,2017,2018,1992,2017,2018,2014,2019,2015,2015,2019,2016,2011,2014,2019,2016,2014,2017,2008,2010,2013,2012,2011,2013,2011,2014,2016,2012,2016,2015,2014,2019,2017,2016,2016,1964,2006,1998,2007,1948,1948,2012,1955,2004,1942,1983,1947,1999,1936,1938,2004,1998,2002,2008,2004,1998,2000,2014,2018,2016,2000,2013,2001,2001,1986,1940,1940,2005,2014,1996,2014,1999,2006,2007,1992,2017,2019,2005,2017,1957,1988,2005,1985,2006,1995,2016,1998,2018,2009,2014,1957,2016,1953,2002,2000,2003,2007,2011,2013,2003,1940,2016,2007,2006,2003,2019,2004,2018,1950,1952,1949,1949,1995,1998,1960,1997,2005,2008,2009,2019,1996,2016,2000,2007,2006,2000,2003,2001,2003,1987,2000,1947,1978,2006,1985,1998,2003,2015,2000,1973,2018,2016,2006,1998,2004,1943,1962,2015,2012,1932,2013,2018,2017,2012,2010,2017,1956,2012,2010,2013,2011,1991,1997,2007,1992,1993,2009,1959,1999,2019,1937,1972,2007,1999,1939,2016,1982,1999,1979,2016,2014,2014,1977,2002,2019,1983,2005,1980,2015,1999,2010,1928,2000,2003,2008,2004,1980,2013,1940,1990,1995,2010,2017,2002,2004,2015,2013,2011,1997,1965,1961,1984,1967,1993,1949,1955,1955,1975,1979,1970,1941,2010,1999,1935,1974,1934,1972,1985,1979,2013,2014,2000,1998,1974,2003,2006,2008,1986,2008,2005,2000,1969,2002,2000,2003,2018,1981,2006,2007,1980,1934,1935,2015,1981,2005,2003,1939,1996,2002,2019,1963,2004,1985,2003,1998,2012,2004,1998,1989,2000,2008,1941,1953,2003,2019,1969,1977,1971,2012,1992,1979,2011,2015,1988,1937,1942,1998,1961,1933,1956,2001,1962,2009,2001,2004,2005,1941,2006,1977,1990,2002,1994,2002,2006,2002,2009,1976,1959,1960,1953,1965,1952,1975,2011,2004,2008,2016,1999,1945,1993,2000,1935,1966,1939,2000,1954,2006,1934,2013,2019,2003,1936,2001,1933,1936,1987,1990,1936,2004,1993,1995,1988,2008,2010,2009,2017,1936,1995,1995,1999,2010,2011,2012,2011,2009,1950,1950,1976,2002,2018,1982,2002,2002,1940,2001,2005,2007,1979,2009,2000,2005,2010,2008,2006,2000,1991,1988,2015,2012,2011,2002,2004,1949,2007,2009,2008,2015,2012,2000,1933,1963,1998,2003,2007,2018,2014,1999,2001,2004,2016,1971,1968,1938,1972,2001,1996,1978,1986,1963,1965,2014,2016,2008,2015,2006,2009,2009,2009,2016,2003,2012],\"xaxis\":\"x\",\"yaxis\":\"y\"}],                        {\"barmode\":\"relative\",\"legend\":{\"tracegroupgap\":0},\"template\":{\"data\":{\"bar\":[{\"error_x\":{\"color\":\"#2a3f5f\"},\"error_y\":{\"color\":\"#2a3f5f\"},\"marker\":{\"line\":{\"color\":\"#E5ECF6\",\"width\":0.5},\"pattern\":{\"fillmode\":\"overlay\",\"size\":10,\"solidity\":0.2}},\"type\":\"bar\"}],\"barpolar\":[{\"marker\":{\"line\":{\"color\":\"#E5ECF6\",\"width\":0.5},\"pattern\":{\"fillmode\":\"overlay\",\"size\":10,\"solidity\":0.2}},\"type\":\"barpolar\"}],\"carpet\":[{\"aaxis\":{\"endlinecolor\":\"#2a3f5f\",\"gridcolor\":\"white\",\"linecolor\":\"white\",\"minorgridcolor\":\"white\",\"startlinecolor\":\"#2a3f5f\"},\"baxis\":{\"endlinecolor\":\"#2a3f5f\",\"gridcolor\":\"white\",\"linecolor\":\"white\",\"minorgridcolor\":\"white\",\"startlinecolor\":\"#2a3f5f\"},\"type\":\"carpet\"}],\"choropleth\":[{\"colorbar\":{\"outlinewidth\":0,\"ticks\":\"\"},\"type\":\"choropleth\"}],\"contour\":[{\"colorbar\":{\"outlinewidth\":0,\"ticks\":\"\"},\"colorscale\":[[0.0,\"#0d0887\"],[0.1111111111111111,\"#46039f\"],[0.2222222222222222,\"#7201a8\"],[0.3333333333333333,\"#9c179e\"],[0.4444444444444444,\"#bd3786\"],[0.5555555555555556,\"#d8576b\"],[0.6666666666666666,\"#ed7953\"],[0.7777777777777778,\"#fb9f3a\"],[0.8888888888888888,\"#fdca26\"],[1.0,\"#f0f921\"]],\"type\":\"contour\"}],\"contourcarpet\":[{\"colorbar\":{\"outlinewidth\":0,\"ticks\":\"\"},\"type\":\"contourcarpet\"}],\"heatmap\":[{\"colorbar\":{\"outlinewidth\":0,\"ticks\":\"\"},\"colorscale\":[[0.0,\"#0d0887\"],[0.1111111111111111,\"#46039f\"],[0.2222222222222222,\"#7201a8\"],[0.3333333333333333,\"#9c179e\"],[0.4444444444444444,\"#bd3786\"],[0.5555555555555556,\"#d8576b\"],[0.6666666666666666,\"#ed7953\"],[0.7777777777777778,\"#fb9f3a\"],[0.8888888888888888,\"#fdca26\"],[1.0,\"#f0f921\"]],\"type\":\"heatmap\"}],\"heatmapgl\":[{\"colorbar\":{\"outlinewidth\":0,\"ticks\":\"\"},\"colorscale\":[[0.0,\"#0d0887\"],[0.1111111111111111,\"#46039f\"],[0.2222222222222222,\"#7201a8\"],[0.3333333333333333,\"#9c179e\"],[0.4444444444444444,\"#bd3786\"],[0.5555555555555556,\"#d8576b\"],[0.6666666666666666,\"#ed7953\"],[0.7777777777777778,\"#fb9f3a\"],[0.8888888888888888,\"#fdca26\"],[1.0,\"#f0f921\"]],\"type\":\"heatmapgl\"}],\"histogram\":[{\"marker\":{\"pattern\":{\"fillmode\":\"overlay\",\"size\":10,\"solidity\":0.2}},\"type\":\"histogram\"}],\"histogram2d\":[{\"colorbar\":{\"outlinewidth\":0,\"ticks\":\"\"},\"colorscale\":[[0.0,\"#0d0887\"],[0.1111111111111111,\"#46039f\"],[0.2222222222222222,\"#7201a8\"],[0.3333333333333333,\"#9c179e\"],[0.4444444444444444,\"#bd3786\"],[0.5555555555555556,\"#d8576b\"],[0.6666666666666666,\"#ed7953\"],[0.7777777777777778,\"#fb9f3a\"],[0.8888888888888888,\"#fdca26\"],[1.0,\"#f0f921\"]],\"type\":\"histogram2d\"}],\"histogram2dcontour\":[{\"colorbar\":{\"outlinewidth\":0,\"ticks\":\"\"},\"colorscale\":[[0.0,\"#0d0887\"],[0.1111111111111111,\"#46039f\"],[0.2222222222222222,\"#7201a8\"],[0.3333333333333333,\"#9c179e\"],[0.4444444444444444,\"#bd3786\"],[0.5555555555555556,\"#d8576b\"],[0.6666666666666666,\"#ed7953\"],[0.7777777777777778,\"#fb9f3a\"],[0.8888888888888888,\"#fdca26\"],[1.0,\"#f0f921\"]],\"type\":\"histogram2dcontour\"}],\"mesh3d\":[{\"colorbar\":{\"outlinewidth\":0,\"ticks\":\"\"},\"type\":\"mesh3d\"}],\"parcoords\":[{\"line\":{\"colorbar\":{\"outlinewidth\":0,\"ticks\":\"\"}},\"type\":\"parcoords\"}],\"pie\":[{\"automargin\":true,\"type\":\"pie\"}],\"scatter\":[{\"marker\":{\"colorbar\":{\"outlinewidth\":0,\"ticks\":\"\"}},\"type\":\"scatter\"}],\"scatter3d\":[{\"line\":{\"colorbar\":{\"outlinewidth\":0,\"ticks\":\"\"}},\"marker\":{\"colorbar\":{\"outlinewidth\":0,\"ticks\":\"\"}},\"type\":\"scatter3d\"}],\"scattercarpet\":[{\"marker\":{\"colorbar\":{\"outlinewidth\":0,\"ticks\":\"\"}},\"type\":\"scattercarpet\"}],\"scattergeo\":[{\"marker\":{\"colorbar\":{\"outlinewidth\":0,\"ticks\":\"\"}},\"type\":\"scattergeo\"}],\"scattergl\":[{\"marker\":{\"colorbar\":{\"outlinewidth\":0,\"ticks\":\"\"}},\"type\":\"scattergl\"}],\"scattermapbox\":[{\"marker\":{\"colorbar\":{\"outlinewidth\":0,\"ticks\":\"\"}},\"type\":\"scattermapbox\"}],\"scatterpolar\":[{\"marker\":{\"colorbar\":{\"outlinewidth\":0,\"ticks\":\"\"}},\"type\":\"scatterpolar\"}],\"scatterpolargl\":[{\"marker\":{\"colorbar\":{\"outlinewidth\":0,\"ticks\":\"\"}},\"type\":\"scatterpolargl\"}],\"scatterternary\":[{\"marker\":{\"colorbar\":{\"outlinewidth\":0,\"ticks\":\"\"}},\"type\":\"scatterternary\"}],\"surface\":[{\"colorbar\":{\"outlinewidth\":0,\"ticks\":\"\"},\"colorscale\":[[0.0,\"#0d0887\"],[0.1111111111111111,\"#46039f\"],[0.2222222222222222,\"#7201a8\"],[0.3333333333333333,\"#9c179e\"],[0.4444444444444444,\"#bd3786\"],[0.5555555555555556,\"#d8576b\"],[0.6666666666666666,\"#ed7953\"],[0.7777777777777778,\"#fb9f3a\"],[0.8888888888888888,\"#fdca26\"],[1.0,\"#f0f921\"]],\"type\":\"surface\"}],\"table\":[{\"cells\":{\"fill\":{\"color\":\"#EBF0F8\"},\"line\":{\"color\":\"white\"}},\"header\":{\"fill\":{\"color\":\"#C8D4E3\"},\"line\":{\"color\":\"white\"}},\"type\":\"table\"}]},\"layout\":{\"annotationdefaults\":{\"arrowcolor\":\"#2a3f5f\",\"arrowhead\":0,\"arrowwidth\":1},\"autotypenumbers\":\"strict\",\"coloraxis\":{\"colorbar\":{\"outlinewidth\":0,\"ticks\":\"\"}},\"colorscale\":{\"diverging\":[[0,\"#8e0152\"],[0.1,\"#c51b7d\"],[0.2,\"#de77ae\"],[0.3,\"#f1b6da\"],[0.4,\"#fde0ef\"],[0.5,\"#f7f7f7\"],[0.6,\"#e6f5d0\"],[0.7,\"#b8e186\"],[0.8,\"#7fbc41\"],[0.9,\"#4d9221\"],[1,\"#276419\"]],\"sequential\":[[0.0,\"#0d0887\"],[0.1111111111111111,\"#46039f\"],[0.2222222222222222,\"#7201a8\"],[0.3333333333333333,\"#9c179e\"],[0.4444444444444444,\"#bd3786\"],[0.5555555555555556,\"#d8576b\"],[0.6666666666666666,\"#ed7953\"],[0.7777777777777778,\"#fb9f3a\"],[0.8888888888888888,\"#fdca26\"],[1.0,\"#f0f921\"]],\"sequentialminus\":[[0.0,\"#0d0887\"],[0.1111111111111111,\"#46039f\"],[0.2222222222222222,\"#7201a8\"],[0.3333333333333333,\"#9c179e\"],[0.4444444444444444,\"#bd3786\"],[0.5555555555555556,\"#d8576b\"],[0.6666666666666666,\"#ed7953\"],[0.7777777777777778,\"#fb9f3a\"],[0.8888888888888888,\"#fdca26\"],[1.0,\"#f0f921\"]]},\"colorway\":[\"#636efa\",\"#EF553B\",\"#00cc96\",\"#ab63fa\",\"#FFA15A\",\"#19d3f3\",\"#FF6692\",\"#B6E880\",\"#FF97FF\",\"#FECB52\"],\"font\":{\"color\":\"#2a3f5f\"},\"geo\":{\"bgcolor\":\"white\",\"lakecolor\":\"white\",\"landcolor\":\"#E5ECF6\",\"showlakes\":true,\"showland\":true,\"subunitcolor\":\"white\"},\"hoverlabel\":{\"align\":\"left\"},\"hovermode\":\"closest\",\"mapbox\":{\"style\":\"light\"},\"paper_bgcolor\":\"white\",\"plot_bgcolor\":\"#E5ECF6\",\"polar\":{\"angularaxis\":{\"gridcolor\":\"white\",\"linecolor\":\"white\",\"ticks\":\"\"},\"bgcolor\":\"#E5ECF6\",\"radialaxis\":{\"gridcolor\":\"white\",\"linecolor\":\"white\",\"ticks\":\"\"}},\"scene\":{\"xaxis\":{\"backgroundcolor\":\"#E5ECF6\",\"gridcolor\":\"white\",\"gridwidth\":2,\"linecolor\":\"white\",\"showbackground\":true,\"ticks\":\"\",\"zerolinecolor\":\"white\"},\"yaxis\":{\"backgroundcolor\":\"#E5ECF6\",\"gridcolor\":\"white\",\"gridwidth\":2,\"linecolor\":\"white\",\"showbackground\":true,\"ticks\":\"\",\"zerolinecolor\":\"white\"},\"zaxis\":{\"backgroundcolor\":\"#E5ECF6\",\"gridcolor\":\"white\",\"gridwidth\":2,\"linecolor\":\"white\",\"showbackground\":true,\"ticks\":\"\",\"zerolinecolor\":\"white\"}},\"shapedefaults\":{\"line\":{\"color\":\"#2a3f5f\"}},\"ternary\":{\"aaxis\":{\"gridcolor\":\"white\",\"linecolor\":\"white\",\"ticks\":\"\"},\"baxis\":{\"gridcolor\":\"white\",\"linecolor\":\"white\",\"ticks\":\"\"},\"bgcolor\":\"#E5ECF6\",\"caxis\":{\"gridcolor\":\"white\",\"linecolor\":\"white\",\"ticks\":\"\"}},\"title\":{\"x\":0.05},\"xaxis\":{\"automargin\":true,\"gridcolor\":\"white\",\"linecolor\":\"white\",\"ticks\":\"\",\"title\":{\"standoff\":15},\"zerolinecolor\":\"white\",\"zerolinewidth\":2},\"yaxis\":{\"automargin\":true,\"gridcolor\":\"white\",\"linecolor\":\"white\",\"ticks\":\"\",\"title\":{\"standoff\":15},\"zerolinecolor\":\"white\",\"zerolinewidth\":2}}},\"title\":{\"text\":\"Release Year\"},\"xaxis\":{\"anchor\":\"y\",\"domain\":[0.0,1.0],\"title\":{\"text\":\"release_year\"}},\"yaxis\":{\"anchor\":\"x\",\"domain\":[0.0,1.0],\"title\":{\"text\":\"count\"}}},                        {\"responsive\": true}                    ).then(function(){\n",
       "                            \n",
       "var gd = document.getElementById('bd3fe297-baba-4847-921e-bfd42307ae88');\n",
       "var x = new MutationObserver(function (mutations, observer) {{\n",
       "        var display = window.getComputedStyle(gd).display;\n",
       "        if (!display || display === 'none') {{\n",
       "            console.log([gd, 'removed!']);\n",
       "            Plotly.purge(gd);\n",
       "            observer.disconnect();\n",
       "        }}\n",
       "}});\n",
       "\n",
       "// Listen for the removal of the full notebook cells\n",
       "var notebookContainer = gd.closest('#notebook-container');\n",
       "if (notebookContainer) {{\n",
       "    x.observe(notebookContainer, {childList: true});\n",
       "}}\n",
       "\n",
       "// Listen for the clearing of the current output cell\n",
       "var outputEl = gd.closest('.output');\n",
       "if (outputEl) {{\n",
       "    x.observe(outputEl, {childList: true});\n",
       "}}\n",
       "\n",
       "                        })                };                });            </script>        </div>"
      ]
     },
     "metadata": {},
     "output_type": "display_data"
    }
   ],
   "source": [
    "px.histogram(df, \"release_year\", title=\"Release Year\")"
   ]
  },
  {
   "cell_type": "markdown",
   "id": "8c12021a",
   "metadata": {},
   "source": [
    "#### Directors with Most Movies/TV Shows"
   ]
  },
  {
   "cell_type": "code",
   "execution_count": 85,
   "id": "da21246a",
   "metadata": {},
   "outputs": [
    {
     "data": {
      "image/png": "[encoded data removed]",
      "text/plain": [
       "<Figure size 432x288 with 1 Axes>"
      ]
     },
     "metadata": {
      "needs_background": "light"
     },
     "output_type": "display_data"
    }
   ],
   "source": [
    "df[\"director\"].value_counts().head(10).plot(kind='barh')\n",
    "plt.title(\"Directors with Most Movies/TV Shows\")\n",
    "plt.show()"
   ]
  }
 ],
 "metadata": {
  "kernelspec": {
   "display_name": "Python 3",
   "language": "python",
   "name": "python3"
  },
  "language_info": {
   "codemirror_mode": {
    "name": "ipython",
    "version": 3
   },
   "file_extension": ".py",
   "mimetype": "text/x-python",
   "name": "python",
   "nbconvert_exporter": "python",
   "pygments_lexer": "ipython3",
   "version": "3.8.8"
  }
 },
 "nbformat": 4,
 "nbformat_minor": 5
}
